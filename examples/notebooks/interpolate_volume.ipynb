{
 "cells": [
  {
   "cell_type": "code",
   "execution_count": 4,
   "metadata": {},
   "outputs": [],
   "source": [
    "\"\"\"Generate a voxel dataset by interpolating a scalar\n",
    "which is only known on a scattered set of points or mesh.\n",
    "Available interpolation kernels are: shepard, gaussian, voronoi, linear.\n",
    "The middle layer is the result of thresholding the volume\n",
    "between 0.3 and 0.4 and assigning it the new value of 0.9\"\"\"\n",
    "from vedo import *\n",
    "\n",
    "settings.default_backend = 'vtk'  # or k3d, ipyvtk, or vtk\n",
    "\n",
    "npts = 500                       # nr. of points of known scalar value\n",
    "coords = np.random.rand(npts, 3) # range is [0, 1]\n",
    "scals = np.abs(coords[:, 2])     # let the scalar be the z of point itself\n",
    "\n",
    "apts = Points(coords)\n",
    "apts.pointdata['scals'] = scals\n",
    "\n",
    "vol = apts.tovolume(kernel='shepard', radius=0.2, dims=(90,90,90))\n",
    "vol.cmap([\"tomato\", \"g\", \"b\"])   # set color transfer functions\n",
    "\n",
    "# this produces a hole in the histogram in the range [0.3, 0.4]'\n",
    "vol.threshold(above=0.3, below=0.4, replace=0.9) # replace voxel value in [vmin,vmax]\n",
    "\n",
    "plt = show(apts, vol, axes=1, elevation=-30)"
   ]
  },
  {
   "cell_type": "code",
   "execution_count": 5,
   "metadata": {},
   "outputs": [
    {
     "data": {
      "text/html": [
       "<table>\n",
       "<tr>\n",
       "<td>\n",
       "<img src='data:image/png;base64,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'></img>\n",
       "</td>\n",
       "<td style='text-align: center; vertical-align: center;'><br/>\n",
       "<b> Points: &nbsp&nbsp</b><b><a href=\"https://vedo.embl.es/docs/vedo/pointcloud.html#Points\" target=\"_blank\">vedo.pointcloud.Points</a></b>\n",
       "<table>\n",
       "<tr><td><b> bounds </b> <br/> (x/y/z) </td><td>4.105e-3 ... 0.9990<br/>2.914e-4 ... 0.9981<br/>2.906e-3 ... 0.9915</td></tr>\n",
       "<tr><td><b> center of mass </b></td><td>(0.514, 0.500, 0.509)</td></tr>\n",
       "<tr><td><b> average size </b></td><td>0.478</td></tr>\n",
       "<tr><td><b> nr. points </b></td><td>500</td></tr>\n",
       "<tr><td><b> point data array </b></td><td>scals</td></tr>\n",
       "\n",
       "</table>\n",
       "</table>"
      ],
      "text/plain": [
       "<vedo.pointcloud.Points at 0x7414045ea630>"
      ]
     },
     "execution_count": 5,
     "metadata": {},
     "output_type": "execute_result"
    }
   ],
   "source": [
    "apts"
   ]
  },
  {
   "cell_type": "code",
   "execution_count": 6,
   "metadata": {},
   "outputs": [
    {
     "data": {
      "text/plain": [
       "<vedo.plotter.Plotter at 0x7413c6b1acf0>"
      ]
     },
     "execution_count": 6,
     "metadata": {},
     "output_type": "execute_result"
    }
   ],
   "source": [
    "plt.close()"
   ]
  },
  {
   "cell_type": "code",
   "execution_count": 5,
   "metadata": {},
   "outputs": [
    {
     "name": "stdout",
     "output_type": "stream",
     "text": [
      "\u001b[7m\u001b[1mvedo version      : 2025.5.3+dev15  (https://vedo.embl.es)       \u001b[0m\n",
      "\u001b[1mvtk version       : 9.4.2\u001b[0m\n",
      "\u001b[1mnumpy version     : 2.1.3\u001b[0m\n",
      "\u001b[1mpython version    : 3.12.3 (main, Feb  4 2025, 14:48:35) [GCC 13.3.0]\u001b[0m\n",
      "\u001b[1mpython interpreter: /home/musy/vedoenv/bin/python3\u001b[0m\n",
      "\u001b[1minstallation point: /home/musy/Projects/vedo\u001b[0m\n",
      "\u001b[1msystem            : Linux 6.11.0-26-generic posix x86_64\u001b[0m\n",
      "\u001b[2mk3d version       : 2.16.1\u001b[0m\n",
      "\u001b[1m\u001b[33m💡 No input files? Try:\n",
      " vedo https://vedo.embl.es/examples/data/panther.stl.gz\u001b[0m\n"
     ]
    }
   ],
   "source": [
    "!vedo"
   ]
  },
  {
   "cell_type": "code",
   "execution_count": null,
   "metadata": {},
   "outputs": [],
   "source": []
  }
 ],
 "metadata": {
  "kernelspec": {
   "display_name": "Python 3 (ipykernel)",
   "language": "python",
   "name": "python3"
  },
  "language_info": {
   "codemirror_mode": {
    "name": "ipython",
    "version": 3
   },
   "file_extension": ".py",
   "mimetype": "text/x-python",
   "name": "python",
   "nbconvert_exporter": "python",
   "pygments_lexer": "ipython3",
   "version": "3.12.3"
  },
  "toc": {
   "base_numbering": 1,
   "nav_menu": {},
   "number_sections": true,
   "sideBar": true,
   "skip_h1_title": false,
   "title_cell": "Table of Contents",
   "title_sidebar": "Contents",
   "toc_cell": false,
   "toc_position": {},
   "toc_section_display": true,
   "toc_window_display": false
  }
 },
 "nbformat": 4,
 "nbformat_minor": 4
}
